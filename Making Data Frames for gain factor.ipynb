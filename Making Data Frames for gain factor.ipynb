{
 "cells": [
  {
   "attachments": {},
   "cell_type": "markdown",
   "id": "ad1ff082",
   "metadata": {},
   "source": [
    "\n",
    "# Getting a Data Frame for the Avg of the Speed Factor\n"
   ]
  },
  {
   "cell_type": "code",
   "execution_count": 1,
   "id": "c583aea5",
   "metadata": {},
   "outputs": [],
   "source": [
    "import pandas as pd\n",
    "import  functions_gain_factor as Compute\n",
    "from datastruct import Settings, Experiment, ExperimentStep, DataPoint"
   ]
  },
  {
   "cell_type": "code",
   "execution_count": 13,
   "id": "6b57e972",
   "metadata": {},
   "outputs": [
    {
     "name": "stdout",
     "output_type": "stream",
     "text": [
      "For Row 1\n",
      "For Row 2\n",
      "For Row 3\n",
      "For Row 4\n",
      "For Row 5\n",
      "For Row 6\n",
      "For Row 7\n",
      "For Row 8\n",
      "For Row 9\n",
      "For Row 10\n",
      "For Row 11\n",
      "For Row 12\n",
      "For Row 13\n",
      "For Row 14\n",
      "For Row 15\n",
      "For Row 16\n"
     ]
    }
   ],
   "source": [
    "\n",
    "my_columns = ['Row_ID', 'type', 'marginal_N', 'marginal_speed__AVG', 'marginal_std', 'N', 'speed_AVG', 'std']\n",
    "\n",
    "df = pd.DataFrame(columns=my_columns)\n",
    "\n",
    "i_values = [i for i in range(1, 17)]\n",
    "#i_values.append(16)\n",
    "i_values\n",
    "\n",
    "recalc_yprofs = False\n",
    "\n",
    "for i in i_values:  \n",
    "    path_str = 'G:\\\\Shared drives\\\\auto_nse_echo\\\\FINAL DATA MAY\\\\'\n",
    "    number_str = str(i)\n",
    "\n",
    "    exp_entropy1 = Experiment.load(path_str + number_str+'\\\\test1_entropy id'+number_str+'e1.gz', recalc_yprofs=recalc_yprofs)\n",
    "    exp_entropy2 = Experiment.load(path_str + number_str+'\\\\test1_entropy id'+number_str+'e2.gz', recalc_yprofs=recalc_yprofs)\n",
    "    exp_on_the_fly1 = Experiment.load(path_str + number_str+'\\\\test1_on_the_fly1 id'+number_str+'o1.gz', recalc_yprofs=recalc_yprofs)\n",
    "    exp_on_the_fly2 = Experiment.load(path_str + number_str+'\\\\test1_on_the_fly2 id'+number_str+'o2.gz', recalc_yprofs=recalc_yprofs)\n",
    "    exp_control = Experiment.load(path_str + number_str+'\\\\test1_control id'+number_str+'c.gz',recalc_yprofs=recalc_yprofs)\n",
    "    \n",
    "    #Marginal Entropy for entropy2. Remember that we store the same values in total and marginal entropy\n",
    "    #for entropy 2. If you change this fact then you do not need the line below nor the if statement in the for loop\n",
    "    for step in exp_entropy2.steps[:-1]:\n",
    "        if step.yprofs is None:\n",
    "            step.yprofs = 0\n",
    "    marginal_entropies_e2 = Compute.recalculating_entropy(exp_entropy2, [0], exp_entropy2.settings.entropy_options)\n",
    "    \n",
    "    #Calculating speed factors \n",
    "    list_exps = [exp_entropy1, exp_entropy2, exp_on_the_fly1, exp_on_the_fly2]\n",
    "    types =  [\"Entropy 1\", \"Entropy2\", \"On-the-fly 1\", \"On-the-fly 2\"]\n",
    "    \n",
    "    print(\"For Row \"+number_str)\n",
    "    \n",
    "    for this_exp, this_type in zip(list_exps, types):\n",
    "\n",
    "        for step in this_exp.steps[:-1]:\n",
    "            if step.yprofs is None:\n",
    "                step.yprofs = 0\n",
    "        \n",
    "        #For marginal entropy (choosing a parameter)\n",
    "        if this_type == \"Entropy2\":\n",
    "            marg_N, marg_avg, marg_std= Compute.printing_speed_gain_info(this_exp.totaltimes(), marginal_entropies_e2,\n",
    "                                exp_control.totaltimes(), exp_control.entropy_marg())\n",
    "        \n",
    "        else:\n",
    "            #Compute marginal Entropies \n",
    "            marg_N, marg_avg, marg_std= Compute.printing_speed_gain_info(this_exp.totaltimes(), this_exp.entropy_marg(),\n",
    "                                                    exp_control.totaltimes(), exp_control.entropy_marg())\n",
    "        \n",
    "            \n",
    "            \n",
    "        #For total entropy(unsing all parameters)\n",
    "        N, avg, std= Compute.printing_speed_gain_info(this_exp.totaltimes(), this_exp.entropy(),\n",
    "                                exp_control.totaltimes(), exp_control.entropy())\n",
    "        \n",
    "        list_aux = [i, this_type, marg_N, marg_avg, marg_std , N, avg, std]\n",
    "        #Making a empty map to store the values \n",
    "        dict_aux = dict(zip(my_columns, list_aux))\n",
    "        \n",
    "        df1 = pd.DataFrame(dict_aux, index=[0])\n",
    "\n",
    "        df = pd.concat([df, df1], ignore_index=True)\n"
   ]
  },
  {
   "cell_type": "code",
   "execution_count": 14,
   "id": "e1c82378",
   "metadata": {},
   "outputs": [],
   "source": [
    "#Saving\n",
    "df.to_excel('my_data.xlsx', index=False) \n",
    "df.to_pickle(\"my_data.pkl\")"
   ]
  },
  {
   "cell_type": "code",
   "execution_count": 4,
   "id": "951ff975",
   "metadata": {},
   "outputs": [],
   "source": [
    "#Uploading \n",
    "#new_df = pd.read_pickle(\"my_data.pkl\")"
   ]
  },
  {
   "attachments": {},
   "cell_type": "markdown",
   "id": "c049ad0a",
   "metadata": {},
   "source": [
    "# Getting Data Frame For Individual Speed Factors "
   ]
  },
  {
   "cell_type": "code",
   "execution_count": 10,
   "id": "8479fe07",
   "metadata": {},
   "outputs": [
    {
     "name": "stdout",
     "output_type": "stream",
     "text": [
      "For Row 1\n",
      "from here 15 32\n",
      "32 17 17 14 14\n",
      "from here 15 35\n",
      "35 20 20 14 14\n",
      "from here 21 37\n",
      "37 16 16 14 14\n",
      "from here 19 35\n",
      "35 16 16 14 14\n",
      "For Row 2\n",
      "from here 26 44\n",
      "44 18 18 16 16\n",
      "from here 21 37\n",
      "37 16 16 16 16\n",
      "from here 23 39\n",
      "39 16 16 16 16\n",
      "from here 24 39\n",
      "39 15 15 16 16\n",
      "For Row 3\n",
      "from here 31 44\n",
      "44 13 13 19 19\n",
      "from here 29 44\n",
      "44 15 15 19 19\n",
      "from here 28 43\n",
      "43 15 15 19 19\n",
      "from here 28 43\n",
      "43 15 15 19 19\n",
      "For Row 4\n",
      "from here 16 34\n",
      "34 18 18 14 14\n",
      "from here 14 33\n",
      "33 19 19 14 14\n",
      "from here 17 35\n",
      "35 18 18 14 14\n",
      "from here 13 32\n",
      "32 19 19 14 14\n",
      "For Row 5\n",
      "from here 16 33\n",
      "33 17 17 14 14\n",
      "from here 16 37\n",
      "37 21 21 14 14\n",
      "from here 18 37\n",
      "37 19 19 14 14\n",
      "from here 17 37\n",
      "37 20 20 14 14\n",
      "For Row 6\n",
      "from here 18 35\n",
      "35 17 17 14 14\n",
      "from here 18 37\n",
      "37 19 19 14 14\n",
      "from here 19 37\n",
      "37 18 18 14 14\n",
      "from here 19 39\n",
      "39 20 20 14 14\n",
      "For Row 7\n",
      "from here 14 28\n",
      "28 14 14 14 14\n",
      "from here 16 33\n",
      "33 17 17 14 14\n",
      "from here 18 34\n",
      "34 16 16 14 14\n",
      "from here 18 34\n",
      "34 16 16 14 14\n",
      "For Row 8\n",
      "from here 15 30\n",
      "30 15 15 14 14\n",
      "from here 16 32\n",
      "32 16 16 14 14\n",
      "from here 18 34\n",
      "34 16 16 14 14\n",
      "from here 18 33\n",
      "33 15 15 14 14\n",
      "For Row 9\n",
      "from here 16 28\n",
      "28 12 12 14 14\n",
      "from here 17 33\n",
      "33 16 16 14 14\n",
      "from here 19 35\n",
      "35 16 16 14 14\n",
      "from here 18 33\n",
      "33 15 15 14 14\n",
      "For Row 10\n",
      "from here 32 47\n",
      "47 15 15 19 19\n",
      "from here 36 50\n",
      "50 14 14 19 19\n",
      "from here 38 53\n",
      "53 15 15 19 19\n",
      "from here 38 54\n",
      "54 16 16 19 19\n",
      "For Row 11\n",
      "from here 3 15\n",
      "15 12 12 9 9\n",
      "from here 3 20\n",
      "20 17 17 9 9\n",
      "from here 3 20\n",
      "20 17 17 9 9\n",
      "from here 3 19\n",
      "19 16 16 9 9\n",
      "For Row 12\n",
      "from here 18 40\n",
      "40 22 22 14 14\n",
      "from here 21 46\n",
      "46 25 25 14 14\n",
      "from here 25 49\n",
      "49 24 24 14 14\n",
      "from here 24 48\n",
      "48 24 24 14 14\n",
      "For Row 13\n",
      "from here 16 30\n",
      "30 14 14 14 14\n",
      "from here 17 30\n",
      "30 13 13 14 14\n",
      "from here 16 29\n",
      "29 13 13 14 14\n",
      "from here 16 30\n",
      "30 14 14 14 14\n",
      "For Row 14\n",
      "from here 11 19\n",
      "19 8 8 14 14\n",
      "from here 12 19\n",
      "19 7 7 14 14\n",
      "from here 12 20\n",
      "20 8 8 14 14\n",
      "from here 11 19\n",
      "19 8 8 14 14\n",
      "For Row 15\n",
      "from here 9 13\n",
      "13 4 4 14 14\n",
      "from here 10 14\n",
      "14 4 4 14 14\n",
      "from here 9 14\n",
      "14 5 5 14 14\n",
      "from here 8 13\n",
      "13 5 5 14 14\n",
      "For Row 16\n",
      "from here 17 32\n",
      "32 15 15 14 14\n",
      "from here 18 35\n",
      "35 17 17 14 14\n",
      "from here 20 36\n",
      "36 16 16 14 14\n",
      "from here 19 35\n",
      "35 16 16 14 14\n",
      "For Row 16\n",
      "from here 17 32\n",
      "32 15 15 14 14\n",
      "from here 18 35\n",
      "35 17 17 14 14\n",
      "from here 20 36\n",
      "36 16 16 14 14\n",
      "from here 19 35\n",
      "35 16 16 14 14\n"
     ]
    }
   ],
   "source": [
    "import pandas as pd\n",
    "\n",
    "my_columns_marg = ['Row_ID', 'type','times(s)', 'marginal_speed_factor']\n",
    "my_columns = ['Row_ID', 'type','times(s)', 'total_speed_factor']\n",
    "\n",
    "df_marg = pd.DataFrame(columns=my_columns_marg)\n",
    "df_total = pd.DataFrame(columns=my_columns)\n",
    "\n",
    "i_values = [i for i in range(1, 17)] #remember goes from right to left -1\n",
    "i_values\n",
    "\n",
    "recalc_yprofs = False\n",
    "\n",
    "for i in i_values:  \n",
    "    path_str = 'G:\\\\Shared drives\\\\auto_nse_echo\\\\FINAL DATA MAY\\\\'\n",
    "    number_str = str(i)\n",
    "\n",
    "    exp_entropy1 = Experiment.load(path_str + number_str+'\\\\test1_entropy id'+number_str+'e1.gz', recalc_yprofs=recalc_yprofs)\n",
    "    exp_entropy2 = Experiment.load(path_str + number_str+'\\\\test1_entropy id'+number_str+'e2.gz', recalc_yprofs=recalc_yprofs)\n",
    "    exp_on_the_fly1 = Experiment.load(path_str + number_str+'\\\\test1_on_the_fly1 id'+number_str+'o1.gz', recalc_yprofs=recalc_yprofs)\n",
    "    exp_on_the_fly2 = Experiment.load(path_str + number_str+'\\\\test1_on_the_fly2 id'+number_str+'o2.gz', recalc_yprofs=recalc_yprofs)\n",
    "    exp_control = Experiment.load(path_str + number_str+'\\\\test1_control id'+number_str+'c.gz',recalc_yprofs=recalc_yprofs)\n",
    "    \n",
    "    #Marginal Entropy for entropy2. Remember that we store the same values in total and marginal entropy\n",
    "    #for entropy 2. If you change this fact then you do not need the line below nor the if statement in the for loop\n",
    "    marginal_entropies_e2 = Compute.recalculating_entropy(exp_entropy2, [0], exp_entropy2.settings.entropy_options)\n",
    "    \n",
    "    #Calculating speed factors \n",
    "    list_exps = [exp_entropy1, exp_entropy2, exp_on_the_fly1, exp_on_the_fly2]\n",
    "    types =  [\"Entropy 1\", \"Entropy 2\", \"On-the-fly 1\", \"On-the-fly 2\"]\n",
    "    \n",
    "    print(\"For Row \"+number_str)\n",
    "    \n",
    "    for this_exp, this_type in zip(list_exps, types):\n",
    "        \n",
    "        for step in this_exp.steps[:-1]:\n",
    "            if step.yprofs is None:\n",
    "                step.yprofs = 0\n",
    "\n",
    "        from_here = Compute.find_last_factor_of_10_subset(this_exp.totaltimes())\n",
    "        #print('from here', from_here, len(this_exp.totaltimes()))\n",
    "        #getting the data \n",
    "        this_times = this_exp.totaltimes()[from_here:]\n",
    "        this_entropies = this_exp.entropy()[from_here:]\n",
    "        #rememebr that for entropy2 we store total entropy in the total and marginal entropy(bc chooses all pars)\n",
    "        #thus if we want the marginal entropies we have to recompute it \n",
    "        if this_type == \"Entropy 2\":\n",
    "            this_marg_entropies = Compute.recalculating_entropy(this_exp, [0], this_exp.settings.entropy_options)[from_here:]\n",
    "        else:\n",
    "            this_marg_entropies = this_exp.entropy_marg()[from_here:]\n",
    "        #For marginal entropy (choosing a parameter)\n",
    "        #print(len(this_exp.load_pts()), len(this_times), len(this_marg_entropies), len(exp_control.totaltimes()), len(exp_control.entropy_marg()))\n",
    "        times_marg, gain_factors_marg = Compute.speedgain(this_times, this_marg_entropies, \n",
    "                        exp_control.totaltimes(), exp_control.entropy_marg())\n",
    "    \n",
    "        \n",
    "        #For total entropy(unsing all parameters)\n",
    "        times_total, gain_factors_total = Compute.speedgain(this_times, this_entropies, \n",
    "                        exp_control.totaltimes(), exp_control.entropy())\n",
    "    \n",
    "        \n",
    "        new_df_marg = pd.DataFrame({my_columns_marg[0]: [i]*len(times_marg), my_columns_marg[1]: [this_type]*len(times_marg),\n",
    "                                   my_columns_marg[2]:times_marg, my_columns_marg[3]: gain_factors_marg})\n",
    "        \n",
    "        \n",
    "        new_df_total = pd.DataFrame({my_columns[0]: [i]*len(times_total), my_columns[1]: [this_type]*len(times_total),\n",
    "                                   my_columns[2]:times_total, my_columns[3]: gain_factors_total})\n",
    "        \n",
    "        #df1 = pd.DataFrame(dict_aux, index=[0])\n",
    "\n",
    "        df_marg = pd.concat([df_marg, new_df_marg], ignore_index=True)\n",
    "        df_total = pd.concat([df_total, new_df_total], ignore_index=True)\n",
    "\n",
    "        "
   ]
  },
  {
   "cell_type": "code",
   "execution_count": 11,
   "id": "a2818e18",
   "metadata": {},
   "outputs": [],
   "source": [
    "#Storing Indivodual Points, Marginal\n",
    "df_marg.to_excel('individual_points_marg.xlsx', index=False) \n",
    "df_marg.to_pickle(\"individual_points_marg.pkl\")\n",
    "\n",
    "df_total.to_excel('individual_points_total.xlsx', index=False)\n",
    "df_total.to_pickle('individual_points_total.pkl')"
   ]
  },
  {
   "cell_type": "code",
   "execution_count": 7,
   "id": "2c30cd2d",
   "metadata": {},
   "outputs": [
    {
     "data": {
      "text/html": [
       "<div>\n",
       "<style scoped>\n",
       "    .dataframe tbody tr th:only-of-type {\n",
       "        vertical-align: middle;\n",
       "    }\n",
       "\n",
       "    .dataframe tbody tr th {\n",
       "        vertical-align: top;\n",
       "    }\n",
       "\n",
       "    .dataframe thead th {\n",
       "        text-align: right;\n",
       "    }\n",
       "</style>\n",
       "<table border=\"1\" class=\"dataframe\">\n",
       "  <thead>\n",
       "    <tr style=\"text-align: right;\">\n",
       "      <th></th>\n",
       "      <th>Row_ID</th>\n",
       "      <th>type</th>\n",
       "      <th>times(s)</th>\n",
       "      <th>marginal_speed_factor</th>\n",
       "    </tr>\n",
       "  </thead>\n",
       "  <tbody>\n",
       "    <tr>\n",
       "      <th>66</th>\n",
       "      <td>2</td>\n",
       "      <td>Entropy 1</td>\n",
       "      <td>649.737097</td>\n",
       "      <td>2.284916</td>\n",
       "    </tr>\n",
       "    <tr>\n",
       "      <th>67</th>\n",
       "      <td>2</td>\n",
       "      <td>Entropy 1</td>\n",
       "      <td>678.688281</td>\n",
       "      <td>2.297830</td>\n",
       "    </tr>\n",
       "    <tr>\n",
       "      <th>68</th>\n",
       "      <td>2</td>\n",
       "      <td>Entropy 1</td>\n",
       "      <td>947.977871</td>\n",
       "      <td>2.439425</td>\n",
       "    </tr>\n",
       "    <tr>\n",
       "      <th>69</th>\n",
       "      <td>2</td>\n",
       "      <td>Entropy 1</td>\n",
       "      <td>1186.271593</td>\n",
       "      <td>2.218374</td>\n",
       "    </tr>\n",
       "    <tr>\n",
       "      <th>70</th>\n",
       "      <td>2</td>\n",
       "      <td>Entropy 1</td>\n",
       "      <td>1214.928093</td>\n",
       "      <td>2.341367</td>\n",
       "    </tr>\n",
       "    <tr>\n",
       "      <th>71</th>\n",
       "      <td>2</td>\n",
       "      <td>Entropy 1</td>\n",
       "      <td>1278.340398</td>\n",
       "      <td>2.287657</td>\n",
       "    </tr>\n",
       "    <tr>\n",
       "      <th>72</th>\n",
       "      <td>2</td>\n",
       "      <td>Entropy 1</td>\n",
       "      <td>1657.882165</td>\n",
       "      <td>2.398661</td>\n",
       "    </tr>\n",
       "    <tr>\n",
       "      <th>73</th>\n",
       "      <td>2</td>\n",
       "      <td>Entropy 1</td>\n",
       "      <td>2016.012732</td>\n",
       "      <td>2.242132</td>\n",
       "    </tr>\n",
       "    <tr>\n",
       "      <th>74</th>\n",
       "      <td>2</td>\n",
       "      <td>Entropy 1</td>\n",
       "      <td>2193.018504</td>\n",
       "      <td>2.377272</td>\n",
       "    </tr>\n",
       "    <tr>\n",
       "      <th>75</th>\n",
       "      <td>2</td>\n",
       "      <td>Entropy 1</td>\n",
       "      <td>2268.431046</td>\n",
       "      <td>2.237789</td>\n",
       "    </tr>\n",
       "    <tr>\n",
       "      <th>76</th>\n",
       "      <td>2</td>\n",
       "      <td>Entropy 1</td>\n",
       "      <td>2877.336599</td>\n",
       "      <td>2.263536</td>\n",
       "    </tr>\n",
       "    <tr>\n",
       "      <th>77</th>\n",
       "      <td>2</td>\n",
       "      <td>Entropy 1</td>\n",
       "      <td>3861.569586</td>\n",
       "      <td>2.402659</td>\n",
       "    </tr>\n",
       "    <tr>\n",
       "      <th>78</th>\n",
       "      <td>2</td>\n",
       "      <td>Entropy 1</td>\n",
       "      <td>4001.287691</td>\n",
       "      <td>2.392717</td>\n",
       "    </tr>\n",
       "    <tr>\n",
       "      <th>79</th>\n",
       "      <td>2</td>\n",
       "      <td>Entropy 1</td>\n",
       "      <td>5355.684311</td>\n",
       "      <td>2.058456</td>\n",
       "    </tr>\n",
       "  </tbody>\n",
       "</table>\n",
       "</div>"
      ],
      "text/plain": [
       "   Row_ID       type     times(s)  marginal_speed_factor\n",
       "66      2  Entropy 1   649.737097               2.284916\n",
       "67      2  Entropy 1   678.688281               2.297830\n",
       "68      2  Entropy 1   947.977871               2.439425\n",
       "69      2  Entropy 1  1186.271593               2.218374\n",
       "70      2  Entropy 1  1214.928093               2.341367\n",
       "71      2  Entropy 1  1278.340398               2.287657\n",
       "72      2  Entropy 1  1657.882165               2.398661\n",
       "73      2  Entropy 1  2016.012732               2.242132\n",
       "74      2  Entropy 1  2193.018504               2.377272\n",
       "75      2  Entropy 1  2268.431046               2.237789\n",
       "76      2  Entropy 1  2877.336599               2.263536\n",
       "77      2  Entropy 1  3861.569586               2.402659\n",
       "78      2  Entropy 1  4001.287691               2.392717\n",
       "79      2  Entropy 1  5355.684311               2.058456"
      ]
     },
     "execution_count": 7,
     "metadata": {},
     "output_type": "execute_result"
    }
   ],
   "source": [
    "#UPLOADING DATA FRAMES\n",
    "#df_marg = pd.read_pickle(\"individual_points_marg.pkl\")\n",
    "#df_total = pd.read_pickle('individual_points_total.pkl')\n",
    "\n",
    "df_marg[(df_marg[\"Row_ID\"] == 2) & (df_marg[\"type\"] == \"Entropy 1\")]"
   ]
  },
  {
   "cell_type": "code",
   "execution_count": 17,
   "id": "33c8a210",
   "metadata": {},
   "outputs": [
    {
     "name": "stderr",
     "output_type": "stream",
     "text": [
      "c:\\users\\dph\\appdata\\local\\continuum\\anaconda3\\envs\\refl1d3\\lib\\site-packages\\sklearn\\mixture\\_base.py:282: ConvergenceWarning: Initialization 1 did not converge. Try different init parameters, or increase max_iter, tol or check for degenerate data.\n",
      "  ConvergenceWarning,\n"
     ]
    },
    {
     "name": "stdout",
     "output_type": "stream",
     "text": [
      "14 14\n",
      "For Row 1\n"
     ]
    },
    {
     "name": "stderr",
     "output_type": "stream",
     "text": [
      "c:\\users\\dph\\appdata\\local\\continuum\\anaconda3\\envs\\refl1d3\\lib\\site-packages\\sklearn\\mixture\\_base.py:282: ConvergenceWarning: Initialization 1 did not converge. Try different init parameters, or increase max_iter, tol or check for degenerate data.\n",
      "  ConvergenceWarning,\n"
     ]
    },
    {
     "name": "stdout",
     "output_type": "stream",
     "text": [
      "16 16\n",
      "For Row 2\n"
     ]
    },
    {
     "name": "stderr",
     "output_type": "stream",
     "text": [
      "c:\\users\\dph\\appdata\\local\\continuum\\anaconda3\\envs\\refl1d3\\lib\\site-packages\\sklearn\\mixture\\_base.py:282: ConvergenceWarning: Initialization 1 did not converge. Try different init parameters, or increase max_iter, tol or check for degenerate data.\n",
      "  ConvergenceWarning,\n",
      "c:\\users\\dph\\appdata\\local\\continuum\\anaconda3\\envs\\refl1d3\\lib\\site-packages\\sklearn\\mixture\\_base.py:282: ConvergenceWarning: Initialization 1 did not converge. Try different init parameters, or increase max_iter, tol or check for degenerate data.\n",
      "  ConvergenceWarning,\n",
      "c:\\users\\dph\\appdata\\local\\continuum\\anaconda3\\envs\\refl1d3\\lib\\site-packages\\sklearn\\mixture\\_base.py:282: ConvergenceWarning: Initialization 1 did not converge. Try different init parameters, or increase max_iter, tol or check for degenerate data.\n",
      "  ConvergenceWarning,\n",
      "c:\\users\\dph\\appdata\\local\\continuum\\anaconda3\\envs\\refl1d3\\lib\\site-packages\\sklearn\\mixture\\_base.py:282: ConvergenceWarning: Initialization 1 did not converge. Try different init parameters, or increase max_iter, tol or check for degenerate data.\n",
      "  ConvergenceWarning,\n",
      "c:\\users\\dph\\appdata\\local\\continuum\\anaconda3\\envs\\refl1d3\\lib\\site-packages\\sklearn\\mixture\\_base.py:282: ConvergenceWarning: Initialization 1 did not converge. Try different init parameters, or increase max_iter, tol or check for degenerate data.\n",
      "  ConvergenceWarning,\n"
     ]
    },
    {
     "name": "stdout",
     "output_type": "stream",
     "text": [
      "19 19\n",
      "For Row 3\n"
     ]
    },
    {
     "name": "stderr",
     "output_type": "stream",
     "text": [
      "c:\\users\\dph\\appdata\\local\\continuum\\anaconda3\\envs\\refl1d3\\lib\\site-packages\\sklearn\\mixture\\_base.py:282: ConvergenceWarning: Initialization 1 did not converge. Try different init parameters, or increase max_iter, tol or check for degenerate data.\n",
      "  ConvergenceWarning,\n",
      "c:\\users\\dph\\appdata\\local\\continuum\\anaconda3\\envs\\refl1d3\\lib\\site-packages\\sklearn\\mixture\\_base.py:282: ConvergenceWarning: Initialization 1 did not converge. Try different init parameters, or increase max_iter, tol or check for degenerate data.\n",
      "  ConvergenceWarning,\n",
      "c:\\users\\dph\\appdata\\local\\continuum\\anaconda3\\envs\\refl1d3\\lib\\site-packages\\sklearn\\mixture\\_base.py:282: ConvergenceWarning: Initialization 1 did not converge. Try different init parameters, or increase max_iter, tol or check for degenerate data.\n",
      "  ConvergenceWarning,\n",
      "c:\\users\\dph\\appdata\\local\\continuum\\anaconda3\\envs\\refl1d3\\lib\\site-packages\\sklearn\\mixture\\_base.py:282: ConvergenceWarning: Initialization 1 did not converge. Try different init parameters, or increase max_iter, tol or check for degenerate data.\n",
      "  ConvergenceWarning,\n"
     ]
    },
    {
     "name": "stdout",
     "output_type": "stream",
     "text": [
      "14 14\n",
      "For Row 4\n"
     ]
    },
    {
     "name": "stderr",
     "output_type": "stream",
     "text": [
      "c:\\users\\dph\\appdata\\local\\continuum\\anaconda3\\envs\\refl1d3\\lib\\site-packages\\sklearn\\mixture\\_base.py:282: ConvergenceWarning: Initialization 1 did not converge. Try different init parameters, or increase max_iter, tol or check for degenerate data.\n",
      "  ConvergenceWarning,\n",
      "c:\\users\\dph\\appdata\\local\\continuum\\anaconda3\\envs\\refl1d3\\lib\\site-packages\\sklearn\\mixture\\_base.py:282: ConvergenceWarning: Initialization 1 did not converge. Try different init parameters, or increase max_iter, tol or check for degenerate data.\n",
      "  ConvergenceWarning,\n",
      "c:\\users\\dph\\appdata\\local\\continuum\\anaconda3\\envs\\refl1d3\\lib\\site-packages\\sklearn\\mixture\\_base.py:282: ConvergenceWarning: Initialization 1 did not converge. Try different init parameters, or increase max_iter, tol or check for degenerate data.\n",
      "  ConvergenceWarning,\n",
      "c:\\users\\dph\\appdata\\local\\continuum\\anaconda3\\envs\\refl1d3\\lib\\site-packages\\sklearn\\mixture\\_base.py:282: ConvergenceWarning: Initialization 1 did not converge. Try different init parameters, or increase max_iter, tol or check for degenerate data.\n",
      "  ConvergenceWarning,\n",
      "c:\\users\\dph\\appdata\\local\\continuum\\anaconda3\\envs\\refl1d3\\lib\\site-packages\\sklearn\\mixture\\_base.py:282: ConvergenceWarning: Initialization 1 did not converge. Try different init parameters, or increase max_iter, tol or check for degenerate data.\n",
      "  ConvergenceWarning,\n"
     ]
    },
    {
     "name": "stdout",
     "output_type": "stream",
     "text": [
      "14 14\n",
      "For Row 5\n"
     ]
    },
    {
     "name": "stderr",
     "output_type": "stream",
     "text": [
      "c:\\users\\dph\\appdata\\local\\continuum\\anaconda3\\envs\\refl1d3\\lib\\site-packages\\sklearn\\mixture\\_base.py:282: ConvergenceWarning: Initialization 1 did not converge. Try different init parameters, or increase max_iter, tol or check for degenerate data.\n",
      "  ConvergenceWarning,\n"
     ]
    },
    {
     "name": "stdout",
     "output_type": "stream",
     "text": [
      "14 14\n",
      "For Row 6\n"
     ]
    },
    {
     "name": "stderr",
     "output_type": "stream",
     "text": [
      "c:\\users\\dph\\appdata\\local\\continuum\\anaconda3\\envs\\refl1d3\\lib\\site-packages\\sklearn\\mixture\\_base.py:282: ConvergenceWarning: Initialization 1 did not converge. Try different init parameters, or increase max_iter, tol or check for degenerate data.\n",
      "  ConvergenceWarning,\n",
      "c:\\users\\dph\\appdata\\local\\continuum\\anaconda3\\envs\\refl1d3\\lib\\site-packages\\sklearn\\mixture\\_base.py:282: ConvergenceWarning: Initialization 1 did not converge. Try different init parameters, or increase max_iter, tol or check for degenerate data.\n",
      "  ConvergenceWarning,\n",
      "c:\\users\\dph\\appdata\\local\\continuum\\anaconda3\\envs\\refl1d3\\lib\\site-packages\\sklearn\\mixture\\_base.py:282: ConvergenceWarning: Initialization 1 did not converge. Try different init parameters, or increase max_iter, tol or check for degenerate data.\n",
      "  ConvergenceWarning,\n",
      "c:\\users\\dph\\appdata\\local\\continuum\\anaconda3\\envs\\refl1d3\\lib\\site-packages\\sklearn\\mixture\\_base.py:282: ConvergenceWarning: Initialization 1 did not converge. Try different init parameters, or increase max_iter, tol or check for degenerate data.\n",
      "  ConvergenceWarning,\n"
     ]
    },
    {
     "name": "stdout",
     "output_type": "stream",
     "text": [
      "14 14\n",
      "For Row 7\n"
     ]
    },
    {
     "name": "stderr",
     "output_type": "stream",
     "text": [
      "c:\\users\\dph\\appdata\\local\\continuum\\anaconda3\\envs\\refl1d3\\lib\\site-packages\\sklearn\\mixture\\_base.py:282: ConvergenceWarning: Initialization 1 did not converge. Try different init parameters, or increase max_iter, tol or check for degenerate data.\n",
      "  ConvergenceWarning,\n",
      "c:\\users\\dph\\appdata\\local\\continuum\\anaconda3\\envs\\refl1d3\\lib\\site-packages\\sklearn\\mixture\\_base.py:282: ConvergenceWarning: Initialization 1 did not converge. Try different init parameters, or increase max_iter, tol or check for degenerate data.\n",
      "  ConvergenceWarning,\n"
     ]
    },
    {
     "name": "stdout",
     "output_type": "stream",
     "text": [
      "14 14\n",
      "For Row 8\n"
     ]
    },
    {
     "name": "stderr",
     "output_type": "stream",
     "text": [
      "c:\\users\\dph\\appdata\\local\\continuum\\anaconda3\\envs\\refl1d3\\lib\\site-packages\\sklearn\\mixture\\_base.py:282: ConvergenceWarning: Initialization 1 did not converge. Try different init parameters, or increase max_iter, tol or check for degenerate data.\n",
      "  ConvergenceWarning,\n",
      "c:\\users\\dph\\appdata\\local\\continuum\\anaconda3\\envs\\refl1d3\\lib\\site-packages\\sklearn\\mixture\\_base.py:282: ConvergenceWarning: Initialization 1 did not converge. Try different init parameters, or increase max_iter, tol or check for degenerate data.\n",
      "  ConvergenceWarning,\n"
     ]
    },
    {
     "name": "stdout",
     "output_type": "stream",
     "text": [
      "14 14\n",
      "For Row 9\n"
     ]
    },
    {
     "name": "stderr",
     "output_type": "stream",
     "text": [
      "c:\\users\\dph\\appdata\\local\\continuum\\anaconda3\\envs\\refl1d3\\lib\\site-packages\\sklearn\\mixture\\_base.py:282: ConvergenceWarning: Initialization 1 did not converge. Try different init parameters, or increase max_iter, tol or check for degenerate data.\n",
      "  ConvergenceWarning,\n",
      "c:\\users\\dph\\appdata\\local\\continuum\\anaconda3\\envs\\refl1d3\\lib\\site-packages\\sklearn\\mixture\\_base.py:282: ConvergenceWarning: Initialization 1 did not converge. Try different init parameters, or increase max_iter, tol or check for degenerate data.\n",
      "  ConvergenceWarning,\n"
     ]
    },
    {
     "name": "stdout",
     "output_type": "stream",
     "text": [
      "19 19\n",
      "For Row 10\n"
     ]
    },
    {
     "name": "stderr",
     "output_type": "stream",
     "text": [
      "c:\\users\\dph\\appdata\\local\\continuum\\anaconda3\\envs\\refl1d3\\lib\\site-packages\\sklearn\\mixture\\_base.py:282: ConvergenceWarning: Initialization 1 did not converge. Try different init parameters, or increase max_iter, tol or check for degenerate data.\n",
      "  ConvergenceWarning,\n",
      "c:\\users\\dph\\appdata\\local\\continuum\\anaconda3\\envs\\refl1d3\\lib\\site-packages\\sklearn\\mixture\\_base.py:282: ConvergenceWarning: Initialization 1 did not converge. Try different init parameters, or increase max_iter, tol or check for degenerate data.\n",
      "  ConvergenceWarning,\n",
      "c:\\users\\dph\\appdata\\local\\continuum\\anaconda3\\envs\\refl1d3\\lib\\site-packages\\sklearn\\mixture\\_base.py:282: ConvergenceWarning: Initialization 1 did not converge. Try different init parameters, or increase max_iter, tol or check for degenerate data.\n",
      "  ConvergenceWarning,\n",
      "c:\\users\\dph\\appdata\\local\\continuum\\anaconda3\\envs\\refl1d3\\lib\\site-packages\\sklearn\\mixture\\_base.py:282: ConvergenceWarning: Initialization 1 did not converge. Try different init parameters, or increase max_iter, tol or check for degenerate data.\n",
      "  ConvergenceWarning,\n"
     ]
    },
    {
     "name": "stdout",
     "output_type": "stream",
     "text": [
      "9 9\n",
      "For Row 11\n"
     ]
    },
    {
     "name": "stderr",
     "output_type": "stream",
     "text": [
      "c:\\users\\dph\\appdata\\local\\continuum\\anaconda3\\envs\\refl1d3\\lib\\site-packages\\sklearn\\mixture\\_base.py:282: ConvergenceWarning: Initialization 1 did not converge. Try different init parameters, or increase max_iter, tol or check for degenerate data.\n",
      "  ConvergenceWarning,\n",
      "c:\\users\\dph\\appdata\\local\\continuum\\anaconda3\\envs\\refl1d3\\lib\\site-packages\\sklearn\\mixture\\_base.py:282: ConvergenceWarning: Initialization 1 did not converge. Try different init parameters, or increase max_iter, tol or check for degenerate data.\n",
      "  ConvergenceWarning,\n"
     ]
    },
    {
     "name": "stdout",
     "output_type": "stream",
     "text": [
      "14 14\n",
      "For Row 12\n"
     ]
    },
    {
     "name": "stderr",
     "output_type": "stream",
     "text": [
      "c:\\users\\dph\\appdata\\local\\continuum\\anaconda3\\envs\\refl1d3\\lib\\site-packages\\sklearn\\mixture\\_base.py:282: ConvergenceWarning: Initialization 1 did not converge. Try different init parameters, or increase max_iter, tol or check for degenerate data.\n",
      "  ConvergenceWarning,\n",
      "c:\\users\\dph\\appdata\\local\\continuum\\anaconda3\\envs\\refl1d3\\lib\\site-packages\\sklearn\\mixture\\_base.py:282: ConvergenceWarning: Initialization 1 did not converge. Try different init parameters, or increase max_iter, tol or check for degenerate data.\n",
      "  ConvergenceWarning,\n",
      "c:\\users\\dph\\appdata\\local\\continuum\\anaconda3\\envs\\refl1d3\\lib\\site-packages\\sklearn\\mixture\\_base.py:282: ConvergenceWarning: Initialization 1 did not converge. Try different init parameters, or increase max_iter, tol or check for degenerate data.\n",
      "  ConvergenceWarning,\n",
      "c:\\users\\dph\\appdata\\local\\continuum\\anaconda3\\envs\\refl1d3\\lib\\site-packages\\sklearn\\mixture\\_base.py:282: ConvergenceWarning: Initialization 1 did not converge. Try different init parameters, or increase max_iter, tol or check for degenerate data.\n",
      "  ConvergenceWarning,\n",
      "c:\\users\\dph\\appdata\\local\\continuum\\anaconda3\\envs\\refl1d3\\lib\\site-packages\\sklearn\\mixture\\_base.py:282: ConvergenceWarning: Initialization 1 did not converge. Try different init parameters, or increase max_iter, tol or check for degenerate data.\n",
      "  ConvergenceWarning,\n"
     ]
    },
    {
     "name": "stdout",
     "output_type": "stream",
     "text": [
      "14 14\n",
      "For Row 13\n"
     ]
    },
    {
     "name": "stderr",
     "output_type": "stream",
     "text": [
      "c:\\users\\dph\\appdata\\local\\continuum\\anaconda3\\envs\\refl1d3\\lib\\site-packages\\sklearn\\mixture\\_base.py:282: ConvergenceWarning: Initialization 1 did not converge. Try different init parameters, or increase max_iter, tol or check for degenerate data.\n",
      "  ConvergenceWarning,\n",
      "c:\\users\\dph\\appdata\\local\\continuum\\anaconda3\\envs\\refl1d3\\lib\\site-packages\\sklearn\\mixture\\_base.py:282: ConvergenceWarning: Initialization 1 did not converge. Try different init parameters, or increase max_iter, tol or check for degenerate data.\n",
      "  ConvergenceWarning,\n",
      "c:\\users\\dph\\appdata\\local\\continuum\\anaconda3\\envs\\refl1d3\\lib\\site-packages\\sklearn\\mixture\\_base.py:282: ConvergenceWarning: Initialization 1 did not converge. Try different init parameters, or increase max_iter, tol or check for degenerate data.\n",
      "  ConvergenceWarning,\n"
     ]
    },
    {
     "name": "stdout",
     "output_type": "stream",
     "text": [
      "14 14\n",
      "For Row 14\n"
     ]
    },
    {
     "name": "stderr",
     "output_type": "stream",
     "text": [
      "c:\\users\\dph\\appdata\\local\\continuum\\anaconda3\\envs\\refl1d3\\lib\\site-packages\\sklearn\\mixture\\_base.py:282: ConvergenceWarning: Initialization 1 did not converge. Try different init parameters, or increase max_iter, tol or check for degenerate data.\n",
      "  ConvergenceWarning,\n",
      "c:\\users\\dph\\appdata\\local\\continuum\\anaconda3\\envs\\refl1d3\\lib\\site-packages\\sklearn\\mixture\\_base.py:282: ConvergenceWarning: Initialization 1 did not converge. Try different init parameters, or increase max_iter, tol or check for degenerate data.\n",
      "  ConvergenceWarning,\n",
      "c:\\users\\dph\\appdata\\local\\continuum\\anaconda3\\envs\\refl1d3\\lib\\site-packages\\sklearn\\mixture\\_base.py:282: ConvergenceWarning: Initialization 1 did not converge. Try different init parameters, or increase max_iter, tol or check for degenerate data.\n",
      "  ConvergenceWarning,\n"
     ]
    },
    {
     "name": "stdout",
     "output_type": "stream",
     "text": [
      "14 14\n",
      "For Row 15\n",
      "14 14\n",
      "For Row 16\n"
     ]
    },
    {
     "name": "stderr",
     "output_type": "stream",
     "text": [
      "c:\\users\\dph\\appdata\\local\\continuum\\anaconda3\\envs\\refl1d3\\lib\\site-packages\\sklearn\\mixture\\_base.py:282: ConvergenceWarning: Initialization 1 did not converge. Try different init parameters, or increase max_iter, tol or check for degenerate data.\n",
      "  ConvergenceWarning,\n",
      "c:\\users\\dph\\appdata\\local\\continuum\\anaconda3\\envs\\refl1d3\\lib\\site-packages\\sklearn\\mixture\\_base.py:282: ConvergenceWarning: Initialization 1 did not converge. Try different init parameters, or increase max_iter, tol or check for degenerate data.\n",
      "  ConvergenceWarning,\n",
      "c:\\users\\dph\\appdata\\local\\continuum\\anaconda3\\envs\\refl1d3\\lib\\site-packages\\sklearn\\mixture\\_base.py:282: ConvergenceWarning: Initialization 1 did not converge. Try different init parameters, or increase max_iter, tol or check for degenerate data.\n",
      "  ConvergenceWarning,\n"
     ]
    }
   ],
   "source": [
    "import pandas as pd\n",
    "\n",
    "my_columns_marg = ['Row_ID', 'type','times(s)', 'marginal_speed_factor']\n",
    "my_columns = ['Row_ID', 'type','times(s)', 'total_speed_factor']\n",
    "\n",
    "df_marg_gmm = pd.DataFrame(columns=my_columns_marg)\n",
    "df_total_gmm = pd.DataFrame(columns=my_columns)\n",
    "\n",
    "i_values = [i for i in range(1, 17)] #remember goes from right to left -1\n",
    "i_values\n",
    "\n",
    "path_str = 'G:\\\\Shared drives\\\\auto_nse_echo\\\\FINAL DATA MAY\\\\'\n",
    "recalc_yprofs = False\n",
    "exp_gmm = Experiment.load(path_str + 'GMM Data\\\\row1B\\\\test1_entropy id1e1_GMM.gz', recalc_yprofs=recalc_yprofs)\n",
    "#exp_gmm = Experiment.load(path_str + '1\\\\test1_entropy id1e1.gz', recalc_yprofs=recalc_yprofs)\n",
    "\n",
    "for i in i_values:  \n",
    "\n",
    "    number_str = str(i)\n",
    "\n",
    "    exp_entropy1 = Experiment.load(path_str + number_str+'\\\\test1_entropy id'+number_str+'e1.gz', recalc_yprofs=recalc_yprofs)\n",
    "    exp_entropy2 = Experiment.load(path_str + number_str+'\\\\test1_entropy id'+number_str+'e2.gz', recalc_yprofs=recalc_yprofs)\n",
    "    exp_on_the_fly1 = Experiment.load(path_str + number_str+'\\\\test1_on_the_fly1 id'+number_str+'o1.gz', recalc_yprofs=recalc_yprofs)\n",
    "    exp_on_the_fly2 = Experiment.load(path_str + number_str+'\\\\test1_on_the_fly2 id'+number_str+'o2.gz', recalc_yprofs=recalc_yprofs)\n",
    "    exp_control = Experiment.load(path_str + number_str+'\\\\test1_control id'+number_str+'c.gz',recalc_yprofs=recalc_yprofs)\n",
    "\n",
    "    ctrl_entropies = Compute.recalculating_entropy(exp_control, None, exp_gmm.settings.entropy_options)\n",
    "    ctrl_marg_entropies = Compute.recalculating_entropy(exp_control, [0], exp_gmm.settings.entropy_options)\n",
    "    print(len(ctrl_entropies), len(exp_control.totaltimes()))\n",
    "\n",
    "    #Marginal Entropy for entropy2. Remember that we store the same values in total and marginal entropy\n",
    "    #for entropy 2. If you change this fact then you do not need the line below nor the if statement in the for loop\n",
    "    #marginal_entropies_e2 = Compute.recalculating_entropy(exp_entropy2, [0], exp_entropy2.settings.entropy_options)\n",
    "    \n",
    "    #Calculating speed factors \n",
    "    list_exps = [exp_entropy1, exp_entropy2, exp_on_the_fly1, exp_on_the_fly2]\n",
    "    types =  [\"Entropy 1\", \"Entropy 2\", \"On-the-fly 1\", \"On-the-fly 2\"]\n",
    "    \n",
    "    print(\"For Row \"+number_str)\n",
    "    \n",
    "    for this_exp, this_type in zip(list_exps, types):\n",
    "        \n",
    "        from_here = Compute.find_last_factor_of_10_subset(this_exp.totaltimes())\n",
    "        #print('from here', from_here, len(this_exp.totaltimes()))\n",
    "        #getting the data \n",
    "        this_times = this_exp.totaltimes()[from_here:]\n",
    "        #this_entropies = this_exp.entropy()[from_here:]\n",
    "        this_entropies = Compute.recalculating_entropy(this_exp, None, exp_gmm.settings.entropy_options)[from_here:]\n",
    "        this_marg_entropies = Compute.recalculating_entropy(this_exp, [0], exp_gmm.settings.entropy_options)[from_here:]\n",
    "        #rememebr that for entropy2 we store total entropy in the total and marginal entropy(bc chooses all pars)\n",
    "        #thus if we want the marginal entropies we have to recompute it \n",
    "        #if this_type == \"Entropy 2\":\n",
    "        #    this_marg_entropies = Compute.recalculating_entropy(this_exp, [0], this_exp.settings.entropy_options)[from_here:]\n",
    "        #else:\n",
    "        #    this_marg_entropies = this_exp.entropy_marg()[from_here:]\n",
    "        #For marginal entropy (choosing a parameter)\n",
    "        #print(len(this_exp.load_pts()), len(this_times), len(this_marg_entropies), len(exp_control.totaltimes()), len(exp_control.entropy_marg()))\n",
    "        times_marg, gain_factors_marg = Compute.speedgain(this_times, this_marg_entropies, \n",
    "                        exp_control.totaltimes(), ctrl_marg_entropies)\n",
    "    \n",
    "        \n",
    "        #For total entropy(unsing all parameters)\n",
    "        times_total, gain_factors_total = Compute.speedgain(this_times, this_entropies, \n",
    "                        exp_control.totaltimes(), ctrl_entropies)\n",
    "    \n",
    "        \n",
    "        new_df_marg = pd.DataFrame({my_columns_marg[0]: [i]*len(times_marg), my_columns_marg[1]: [this_type]*len(times_marg),\n",
    "                                   my_columns_marg[2]:times_marg, my_columns_marg[3]: gain_factors_marg})\n",
    "        \n",
    "        \n",
    "        new_df_total = pd.DataFrame({my_columns[0]: [i]*len(times_total), my_columns[1]: [this_type]*len(times_total),\n",
    "                                   my_columns[2]:times_total, my_columns[3]: gain_factors_total})\n",
    "        \n",
    "        #df1 = pd.DataFrame(dict_aux, index=[0])\n",
    "\n",
    "        df_marg_gmm = pd.concat([df_marg_gmm, new_df_marg], ignore_index=True)\n",
    "        df_total_gmm = pd.concat([df_total_gmm, new_df_total], ignore_index=True)\n",
    "\n",
    "        "
   ]
  },
  {
   "cell_type": "code",
   "execution_count": 3,
   "id": "35beec31",
   "metadata": {},
   "outputs": [],
   "source": [
    "#Storing Indivodual Points, Marginal\n",
    "df_marg_gmm.to_excel('individual_points_marg_mvn0_mvn.xlsx', index=False) \n",
    "#df_marg.to_pickle(\"individual_points_marg.pkl\")\n",
    "\n",
    "df_total_gmm.to_excel('individual_points_total_mvn0_mvn.xlsx', index=False)\n",
    "#df_total.to_pickle('individual_points_total.pkl')"
   ]
  },
  {
   "cell_type": "code",
   "execution_count": 19,
   "id": "99e4ee09",
   "metadata": {},
   "outputs": [
    {
     "name": "stdout",
     "output_type": "stream",
     "text": [
      "For Row 1\n"
     ]
    },
    {
     "name": "stderr",
     "output_type": "stream",
     "text": [
      "c:\\users\\dph\\appdata\\local\\continuum\\anaconda3\\envs\\refl1d3\\lib\\site-packages\\sklearn\\mixture\\_base.py:282: ConvergenceWarning: Initialization 1 did not converge. Try different init parameters, or increase max_iter, tol or check for degenerate data.\n",
      "  ConvergenceWarning,\n",
      "c:\\users\\dph\\appdata\\local\\continuum\\anaconda3\\envs\\refl1d3\\lib\\site-packages\\sklearn\\mixture\\_base.py:282: ConvergenceWarning: Initialization 1 did not converge. Try different init parameters, or increase max_iter, tol or check for degenerate data.\n",
      "  ConvergenceWarning,\n",
      "c:\\users\\dph\\appdata\\local\\continuum\\anaconda3\\envs\\refl1d3\\lib\\site-packages\\sklearn\\mixture\\_base.py:282: ConvergenceWarning: Initialization 1 did not converge. Try different init parameters, or increase max_iter, tol or check for degenerate data.\n",
      "  ConvergenceWarning,\n",
      "c:\\users\\dph\\appdata\\local\\continuum\\anaconda3\\envs\\refl1d3\\lib\\site-packages\\sklearn\\mixture\\_base.py:282: ConvergenceWarning: Initialization 1 did not converge. Try different init parameters, or increase max_iter, tol or check for degenerate data.\n",
      "  ConvergenceWarning,\n",
      "c:\\users\\dph\\appdata\\local\\continuum\\anaconda3\\envs\\refl1d3\\lib\\site-packages\\sklearn\\mixture\\_base.py:282: ConvergenceWarning: Initialization 1 did not converge. Try different init parameters, or increase max_iter, tol or check for degenerate data.\n",
      "  ConvergenceWarning,\n"
     ]
    },
    {
     "name": "stdout",
     "output_type": "stream",
     "text": [
      "For Row 2\n"
     ]
    },
    {
     "name": "stderr",
     "output_type": "stream",
     "text": [
      "c:\\users\\dph\\appdata\\local\\continuum\\anaconda3\\envs\\refl1d3\\lib\\site-packages\\sklearn\\mixture\\_base.py:282: ConvergenceWarning: Initialization 1 did not converge. Try different init parameters, or increase max_iter, tol or check for degenerate data.\n",
      "  ConvergenceWarning,\n",
      "c:\\users\\dph\\appdata\\local\\continuum\\anaconda3\\envs\\refl1d3\\lib\\site-packages\\sklearn\\mixture\\_base.py:282: ConvergenceWarning: Initialization 1 did not converge. Try different init parameters, or increase max_iter, tol or check for degenerate data.\n",
      "  ConvergenceWarning,\n",
      "c:\\users\\dph\\appdata\\local\\continuum\\anaconda3\\envs\\refl1d3\\lib\\site-packages\\sklearn\\mixture\\_base.py:282: ConvergenceWarning: Initialization 1 did not converge. Try different init parameters, or increase max_iter, tol or check for degenerate data.\n",
      "  ConvergenceWarning,\n"
     ]
    }
   ],
   "source": [
    "import pandas as pd\n",
    "\n",
    "my_columns_marg = ['Row_ID', 'type','times(s)', 'marginal_speed_factor']\n",
    "my_columns = ['Row_ID', 'type','times(s)', 'total_speed_factor']\n",
    "\n",
    "df_marg_gmm_gmm = pd.DataFrame(columns=my_columns_marg)\n",
    "df_total_gmm_gmm = pd.DataFrame(columns=my_columns)\n",
    "\n",
    "i_values = [i for i in range(1, 3)] #remember goes from right to left -1\n",
    "i_values\n",
    "\n",
    "path_str = 'G:\\\\Shared drives\\\\auto_nse_echo\\\\FINAL DATA MAY\\\\GMM Data\\\\row'\n",
    "recalc_yprofs = False\n",
    "exp_gmm = Experiment.load('G:\\\\Shared drives\\\\auto_nse_echo\\\\FINAL DATA MAY\\\\GMM Data\\\\row1B\\\\test1_entropy id1e1_GMM.gz', recalc_yprofs=recalc_yprofs)\n",
    "#exp_gmm = Experiment.load('G:\\\\Shared drives\\\\auto_nse_echo\\\\FINAL DATA MAY\\\\1\\\\test1_entropy id1e1.gz', recalc_yprofs=recalc_yprofs)\n",
    "\n",
    "for i in i_values:  \n",
    "\n",
    "    number_str = str(i)\n",
    "\n",
    "    exp_entropy1 = Experiment.load(path_str + number_str+'B\\\\test1_entropy id'+number_str+'e1_GMM.gz', recalc_yprofs=recalc_yprofs)\n",
    "    exp_entropy2 = Experiment.load(path_str + number_str+'B\\\\test1_entropy id'+number_str+'e2_GMM.gz', recalc_yprofs=recalc_yprofs)\n",
    "    exp_on_the_fly1 = Experiment.load(path_str + number_str+'B\\\\test1_on_the_fly1 id'+number_str+'o1_GMM.gz', recalc_yprofs=recalc_yprofs)\n",
    "    exp_on_the_fly2 = Experiment.load(path_str + number_str+'B\\\\test1_on_the_fly2 id'+number_str+'o2_GMM.gz', recalc_yprofs=recalc_yprofs)\n",
    "    exp_control = Experiment.load(path_str + number_str+'B\\\\test1_control id'+number_str+'c_GMM.gz',recalc_yprofs=recalc_yprofs)\n",
    "\n",
    "    ctrl_entropies = Compute.recalculating_entropy(exp_control, None, exp_gmm.settings.entropy_options)\n",
    "    ctrl_marg_entropies = Compute.recalculating_entropy(exp_control, [0], exp_gmm.settings.entropy_options)\n",
    "\n",
    "    #Marginal Entropy for entropy2. Remember that we store the same values in total and marginal entropy\n",
    "    #for entropy 2. If you change this fact then you do not need the line below nor the if statement in the for loop\n",
    "    #marginal_entropies_e2 = Compute.recalculating_entropy(exp_entropy2, [0], exp_entropy2.settings.entropy_options)\n",
    "    \n",
    "    #Calculating speed factors \n",
    "    list_exps = [exp_entropy1, exp_entropy2, exp_on_the_fly1, exp_on_the_fly2]\n",
    "    types =  [\"Entropy 1\", \"Entropy 2\", \"On-the-fly 1\", \"On-the-fly 2\"]\n",
    "    \n",
    "    print(\"For Row \"+number_str)\n",
    "    \n",
    "    for this_exp, this_type in zip(list_exps, types):\n",
    "        \n",
    "        for step in this_exp.steps[:-1]:\n",
    "            if step.yprofs is None:\n",
    "                step.yprofs = 0\n",
    "\n",
    "        from_here = Compute.find_last_factor_of_10_subset(this_exp.totaltimes())\n",
    "        #print('from here', from_here, len(this_exp.totaltimes()))\n",
    "        #getting the data \n",
    "        this_times = this_exp.totaltimes()[from_here:]\n",
    "        #this_entropies = this_exp.entropy()[from_here:]\n",
    "        this_entropies = Compute.recalculating_entropy(this_exp, None, exp_gmm.settings.entropy_options)[from_here:]\n",
    "        this_marg_entropies = Compute.recalculating_entropy(this_exp, [0], exp_gmm.settings.entropy_options)[from_here:]\n",
    "        #rememebr that for entropy2 we store total entropy in the total and marginal entropy(bc chooses all pars)\n",
    "        #thus if we want the marginal entropies we have to recompute it \n",
    "        #if this_type == \"Entropy 2\":\n",
    "        #    this_marg_entropies = Compute.recalculating_entropy(this_exp, [0], this_exp.settings.entropy_options)[from_here:]\n",
    "        #else:\n",
    "        #    this_marg_entropies = this_exp.entropy_marg()[from_here:]\n",
    "        #For marginal entropy (choosing a parameter)\n",
    "        #print(len(this_exp.load_pts()), len(this_times), len(this_marg_entropies), len(exp_control.totaltimes()), len(exp_control.entropy_marg()))\n",
    "        times_marg, gain_factors_marg = Compute.speedgain(this_times, this_marg_entropies, \n",
    "                        exp_control.totaltimes(), ctrl_marg_entropies)\n",
    "    \n",
    "        \n",
    "        #For total entropy(unsing all parameters)\n",
    "        times_total, gain_factors_total = Compute.speedgain(this_times, this_entropies, \n",
    "                        exp_control.totaltimes(), ctrl_entropies)\n",
    "    \n",
    "        \n",
    "        new_df_marg = pd.DataFrame({my_columns_marg[0]: [str(i) + 'B']*len(times_marg), my_columns_marg[1]: [this_type]*len(times_marg),\n",
    "                                   my_columns_marg[2]:times_marg, my_columns_marg[3]: gain_factors_marg})\n",
    "        \n",
    "        \n",
    "        new_df_total = pd.DataFrame({my_columns[0]: [str(i) + 'B']*len(times_total), my_columns[1]: [this_type]*len(times_total),\n",
    "                                   my_columns[2]:times_total, my_columns[3]: gain_factors_total})\n",
    "        \n",
    "        #df1 = pd.DataFrame(dict_aux, index=[0])\n",
    "\n",
    "        df_marg_gmm_gmm = pd.concat([df_marg_gmm_gmm, new_df_marg], ignore_index=True)\n",
    "        df_total_gmm_gmm = pd.concat([df_total_gmm_gmm, new_df_total], ignore_index=True)\n",
    "\n",
    "        "
   ]
  },
  {
   "cell_type": "code",
   "execution_count": 11,
   "id": "ce3507db",
   "metadata": {},
   "outputs": [],
   "source": [
    "#Storing Indivodual Points, Marginal\n",
    "df_marg_gmm_gmm.to_excel('individual_points_marg_gmm0_mvn.xlsx', index=False) \n",
    "#df_marg.to_pickle(\"individual_points_marg.pkl\")\n",
    "\n",
    "df_total_gmm_gmm.to_excel('individual_points_total_gmm0_mvn.xlsx', index=False)\n",
    "#df_total.to_pickle('individual_points_total.pkl')"
   ]
  },
  {
   "cell_type": "code",
   "execution_count": 20,
   "id": "43c9116b",
   "metadata": {},
   "outputs": [],
   "source": [
    "df_marg_gmm_all = pd.concat([df_marg_gmm, df_marg_gmm_gmm])\n",
    "df_marg_gmm_all.to_excel('individual_points_marg_all_gmm.xlsx', index=False) \n",
    "\n",
    "df_total_gmm_all = pd.concat([df_total_gmm, df_total_gmm_gmm])\n",
    "df_total_gmm_all.to_excel('individual_points_total_all_gmm.xlsx', index=False) "
   ]
  }
 ],
 "metadata": {
  "kernelspec": {
   "display_name": "Python 3 (ipykernel)",
   "language": "python",
   "name": "python3"
  },
  "language_info": {
   "codemirror_mode": {
    "name": "ipython",
    "version": 3
   },
   "file_extension": ".py",
   "mimetype": "text/x-python",
   "name": "python",
   "nbconvert_exporter": "python",
   "pygments_lexer": "ipython3",
   "version": "3.7.7"
  }
 },
 "nbformat": 4,
 "nbformat_minor": 5
}
